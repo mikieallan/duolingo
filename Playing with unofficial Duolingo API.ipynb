{
 "cells": [
  {
   "cell_type": "code",
   "execution_count": null,
   "id": "2edfbee5",
   "metadata": {},
   "outputs": [],
   "source": [
    "import duolingo # $ pip install duolingo-api\n",
    "### https://github.com/KartikTalwar/Duolingo/blob/master/duolingo.py\n",
    "\n",
    "import inspect # standard module\n",
    "import pprint # standard module\n",
    "from IPython.display import HTML, display # $ pip install ipython\n",
    "import requests # $ pip install requests\n",
    "\n",
    "## Get login details\n",
    "from env import *\n",
    "my_username = MY_USERNAME # duolingo username, likely email. Set in env.py file\n",
    "my_jwt = MY_JWT # login to duolingo web and get value from JWT cookie. Set in env.py file\n",
    "\n",
    "## Set which language you want to see\n",
    "my_lang_short = MY_LANG_SHORT\n",
    "my_lang_long = MY_LANG_LONG"
   ]
  },
  {
   "cell_type": "code",
   "execution_count": null,
   "id": "fdf9a349",
   "metadata": {},
   "outputs": [],
   "source": [
    "### Helper code found on a github, after original login method broke\n",
    "\n",
    "source = inspect.getsource(duolingo)\n",
    "new_source = source.replace('jwt=None', 'jwt')\n",
    "new_source = source.replace('self.jwt = None', ' ')\n",
    "exec(new_source, duolingo.__dict__)\n",
    "\n",
    "### Initalize duolingo, login with JWT\n",
    "lingo  = duolingo.Duolingo(username=my_username, jwt=my_jwt)"
   ]
  },
  {
   "cell_type": "code",
   "execution_count": null,
   "id": "959fbd21",
   "metadata": {},
   "outputs": [],
   "source": [
    "## Helper function to print HTML\n",
    "\n",
    "def print_html(html_content):\n",
    "    display(HTML(html_content))"
   ]
  },
  {
   "cell_type": "code",
   "execution_count": null,
   "id": "099f0458",
   "metadata": {},
   "outputs": [],
   "source": [
    "### Get words\n",
    "words = lingo.get_known_words(lang=my_lang_short)\n",
    "# words"
   ]
  },
  {
   "cell_type": "code",
   "execution_count": null,
   "id": "e200c1e5",
   "metadata": {},
   "outputs": [],
   "source": [
    "vocab = lingo.get_vocabulary()\n",
    "\n",
    "my_vocab = []\n",
    "\n",
    "for key in vocab['vocab_overview']:\n",
    "    my_vocab.append(key['word_string'])\n",
    "    \n",
    "# my_vocab"
   ]
  },
  {
   "cell_type": "code",
   "execution_count": null,
   "id": "d2e4f4c5",
   "metadata": {},
   "outputs": [],
   "source": [
    "my_dir = dir(lingo)\n",
    "my_vars = vars(lingo)\n",
    "my_user_data_vars = vars(lingo.user_data)\n",
    "\n",
    "# pprint.pprint(my_dir)"
   ]
  },
  {
   "cell_type": "code",
   "execution_count": null,
   "id": "45353d64",
   "metadata": {},
   "outputs": [],
   "source": [
    "### Get lessons and explanations\n",
    "\n",
    "lesson_dict = {}\n",
    "\n",
    "explanations = []\n",
    "\n",
    "for item in my_user_data_vars['language_data'][my_lang_short]['skills']:\n",
    "    lesson_id = item['id']\n",
    "    title = item['title']\n",
    "    words = item['words']\n",
    "    explanation = item['explanation']\n",
    "    coords_y = item['coords_y'],\n",
    "    coords_x = item['coords_x'],\n",
    "    lesson_dict[lesson_id] = {\n",
    "        'title': title,\n",
    "        'explanation': explanation,\n",
    "        'words': words,\n",
    "        'coords_x': coords_x[0],\n",
    "        'coords_y': coords_y[0]\n",
    "    }"
   ]
  },
  {
   "cell_type": "code",
   "execution_count": null,
   "id": "ae201703",
   "metadata": {},
   "outputs": [],
   "source": [
    "### Sort lessons by x and y coordinates, doesn't work perfectly but not sure what index to use\n",
    "\n",
    "sorted_lesson_dict = dict(sorted(lesson_dict.items(), key=lambda item: (item[1]['coords_x'], item[1]['coords_y'])))\n"
   ]
  },
  {
   "cell_type": "code",
   "execution_count": null,
   "id": "500893fd",
   "metadata": {},
   "outputs": [],
   "source": [
    "### Trying to figure out how lessons are ordered, as the coordinates don't match the app\n",
    "\n",
    "# for _id, lesson in lesson_dict.items():\n",
    "#     print(\"X:\" + str(lesson['coords_x']) + \" Y: \" + str(lesson['coords_y']))"
   ]
  },
  {
   "cell_type": "code",
   "execution_count": null,
   "id": "5e31fdf7",
   "metadata": {
    "scrolled": true
   },
   "outputs": [],
   "source": [
    "### Print all lessons in HTML\n",
    "\n",
    "for _id, lesson in sorted_lesson_dict.items():\n",
    "    print(\"Title: \" + lesson['title'])\n",
    "    print(lesson['words'])\n",
    "    print_html(lesson['explanation'])\n",
    "    print(\"\\n\\n\\n\\n\")\n"
   ]
  },
  {
   "cell_type": "code",
   "execution_count": null,
   "id": "9694d6d1",
   "metadata": {},
   "outputs": [],
   "source": []
  },
  {
   "cell_type": "code",
   "execution_count": null,
   "id": "2be15d42",
   "metadata": {},
   "outputs": [],
   "source": []
  },
  {
   "cell_type": "code",
   "execution_count": null,
   "id": "b755659c",
   "metadata": {},
   "outputs": [],
   "source": []
  },
  {
   "cell_type": "code",
   "execution_count": null,
   "id": "603aea9c",
   "metadata": {},
   "outputs": [],
   "source": [
    "### Misc playing around below"
   ]
  },
  {
   "cell_type": "code",
   "execution_count": null,
   "id": "daefc554",
   "metadata": {},
   "outputs": [],
   "source": [
    "my_user_data_vars['language_data'][my_lang_short]['skills']"
   ]
  },
  {
   "cell_type": "code",
   "execution_count": null,
   "id": "55eb8375",
   "metadata": {},
   "outputs": [],
   "source": []
  },
  {
   "cell_type": "code",
   "execution_count": null,
   "id": "4336fd34",
   "metadata": {},
   "outputs": [],
   "source": [
    "indices = []\n",
    "\n",
    "for item in my_user_data_vars['language_data'][my_lang_short]['skills']:\n",
    "    indices.append(item['new_index'])"
   ]
  },
  {
   "cell_type": "code",
   "execution_count": null,
   "id": "f6afdad2",
   "metadata": {},
   "outputs": [],
   "source": [
    "my_user_data_vars"
   ]
  },
  {
   "cell_type": "code",
   "execution_count": null,
   "id": "0201d880",
   "metadata": {},
   "outputs": [],
   "source": [
    "skills = my_user_data_vars['language_data'][my_lang_short]['skills']"
   ]
  },
  {
   "cell_type": "code",
   "execution_count": null,
   "id": "2c4ee964",
   "metadata": {},
   "outputs": [],
   "source": [
    "for item in skills:\n",
    "    print(str(item['new_index']) + \" \" + item['title'] + \" \" + str(item['locked']))\n"
   ]
  },
  {
   "cell_type": "code",
   "execution_count": null,
   "id": "747e1bfb",
   "metadata": {},
   "outputs": [],
   "source": [
    "print(lingo.get_language_details(my_lang_long))"
   ]
  },
  {
   "cell_type": "code",
   "execution_count": null,
   "id": "ed512c09",
   "metadata": {},
   "outputs": [],
   "source": [
    "known_topics = lingo.get_known_topics(my_lang_short)\n",
    "unknown_topics = lingo.get_unknown_topics(my_lang_short)\n",
    "golden_topics = lingo.get_golden_topics(my_lang_short)\n",
    "reviewable_topics = lingo.get_reviewable_topics(my_lang_short)"
   ]
  },
  {
   "cell_type": "code",
   "execution_count": null,
   "id": "3ab0dd01",
   "metadata": {},
   "outputs": [],
   "source": []
  },
  {
   "cell_type": "code",
   "execution_count": null,
   "id": "ac72583b",
   "metadata": {},
   "outputs": [],
   "source": [
    "for topic in known_topics:\n",
    "    if topic not in golden_topics:\n",
    "        print(topic)"
   ]
  },
  {
   "cell_type": "code",
   "execution_count": null,
   "id": "55e8bfc1",
   "metadata": {},
   "outputs": [],
   "source": [
    "# my_vocab"
   ]
  },
  {
   "cell_type": "code",
   "execution_count": null,
   "id": "095f1435",
   "metadata": {},
   "outputs": [],
   "source": []
  },
  {
   "cell_type": "code",
   "execution_count": null,
   "id": "8d78fa1a",
   "metadata": {},
   "outputs": [],
   "source": []
  },
  {
   "cell_type": "code",
   "execution_count": null,
   "id": "75931c88",
   "metadata": {},
   "outputs": [],
   "source": []
  },
  {
   "cell_type": "code",
   "execution_count": null,
   "id": "c62d3e05",
   "metadata": {},
   "outputs": [],
   "source": []
  }
 ],
 "metadata": {
  "kernelspec": {
   "display_name": "Python 3",
   "language": "python",
   "name": "python3"
  },
  "language_info": {
   "codemirror_mode": {
    "name": "ipython",
    "version": 3
   },
   "file_extension": ".py",
   "mimetype": "text/x-python",
   "name": "python",
   "nbconvert_exporter": "python",
   "pygments_lexer": "ipython3",
   "version": "3.8.8"
  }
 },
 "nbformat": 4,
 "nbformat_minor": 5
}
